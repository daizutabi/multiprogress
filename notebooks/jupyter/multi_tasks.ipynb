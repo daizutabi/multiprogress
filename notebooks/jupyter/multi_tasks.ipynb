{
 "cells": [
  {
   "cell_type": "code",
   "execution_count": 1,
   "id": "8fff6a2b",
   "metadata": {},
   "outputs": [],
   "source": [
    "import random\n",
    "import time\n",
    "\n",
    "from rich.progress import MofNCompleteColumn, SpinnerColumn, TimeElapsedColumn\n",
    "\n",
    "from multiprogress.multi_tasks import Progress"
   ]
  },
  {
   "cell_type": "code",
   "execution_count": 2,
   "id": "a3806810",
   "metadata": {},
   "outputs": [],
   "source": [
    "def task(total: int | None):\n",
    "    for i in range(total or random.randint(300, 500)):\n",
    "        if total is None:\n",
    "            yield i\n",
    "        else:\n",
    "            yield total, i\n",
    "        time.sleep(random.random() / 30)"
   ]
  },
  {
   "cell_type": "code",
   "execution_count": 3,
   "id": "fb2a9712",
   "metadata": {},
   "outputs": [],
   "source": [
    "def test_multi_tasks_progress(n: int = 4, **kwargs):\n",
    "    tasks = (task(random.randint(300, 500) if k else None) for k in range(n))\n",
    "    columns = [\n",
    "        SpinnerColumn(),\n",
    "        *Progress.get_default_columns(),\n",
    "        MofNCompleteColumn(),\n",
    "        TimeElapsedColumn(),\n",
    "    ]\n",
    "\n",
    "    with Progress(*columns, **kwargs) as progress:\n",
    "        progress.start_tasks(tasks)"
   ]
  },
  {
   "cell_type": "code",
   "execution_count": 4,
   "id": "0ff699b8",
   "metadata": {},
   "outputs": [
    {
     "data": {
      "application/vnd.jupyter.widget-view+json": {
       "model_id": "cd4f9ca96b5343b79afb83662c268767",
       "version_major": 2,
       "version_minor": 0
      },
      "text/plain": [
       "Output()"
      ]
     },
     "metadata": {},
     "output_type": "display_data"
    },
    {
     "data": {
      "text/html": [
       "<pre style=\"white-space:pre;overflow-x:auto;line-height:normal;font-family:Menlo,'DejaVu Sans Mono',consolas,'Courier New',monospace\"></pre>\n"
      ],
      "text/plain": []
     },
     "metadata": {},
     "output_type": "display_data"
    }
   ],
   "source": [
    "test_multi_tasks_progress()"
   ]
  },
  {
   "cell_type": "code",
   "execution_count": null,
   "id": "37168f65",
   "metadata": {},
   "outputs": [],
   "source": []
  }
 ],
 "metadata": {
  "kernelspec": {
   "display_name": "multiprogress",
   "language": "python",
   "name": "python3"
  },
  "language_info": {
   "codemirror_mode": {
    "name": "ipython",
    "version": 3
   },
   "file_extension": ".py",
   "mimetype": "text/x-python",
   "name": "python",
   "nbconvert_exporter": "python",
   "pygments_lexer": "ipython3",
   "version": "3.13.6"
  }
 },
 "nbformat": 4,
 "nbformat_minor": 5
}
