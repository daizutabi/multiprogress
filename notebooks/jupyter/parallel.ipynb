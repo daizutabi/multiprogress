{
 "cells": [
  {
   "cell_type": "code",
   "execution_count": 1,
   "id": "8e2ef1e8",
   "metadata": {},
   "outputs": [],
   "source": [
    "import time\n",
    "\n",
    "from joblib import Parallel, delayed\n",
    "from rich.progress import MofNCompleteColumn, SpinnerColumn, TimeElapsedColumn\n",
    "\n",
    "from multiprogress.parallel import Progress"
   ]
  },
  {
   "cell_type": "code",
   "execution_count": 4,
   "id": "29d31084",
   "metadata": {},
   "outputs": [],
   "source": [
    "def test_parallel_progress(**kwargs) -> None:\n",
    "    def func(x: int) -> str:\n",
    "        time.sleep(1)\n",
    "        return f\"result: {x}\"\n",
    "\n",
    "    columns = [\n",
    "        SpinnerColumn(),\n",
    "        *Progress.get_default_columns(),\n",
    "        MofNCompleteColumn(),\n",
    "        TimeElapsedColumn(),\n",
    "    ]\n",
    "\n",
    "    it = list(range(24))\n",
    "\n",
    "    with Progress(*columns, **kwargs) as progress:\n",
    "        progress.add_task(\"test\", total=len(it))\n",
    "        Parallel(n_jobs=-1)(delayed(func)(x) for x in it)"
   ]
  },
  {
   "cell_type": "code",
   "execution_count": 5,
   "id": "dfadbbf9",
   "metadata": {},
   "outputs": [
    {
     "data": {
      "application/vnd.jupyter.widget-view+json": {
       "model_id": "cadb36dde2b34ebd8be9bdfe7b69dfe7",
       "version_major": 2,
       "version_minor": 0
      },
      "text/plain": [
       "Output()"
      ]
     },
     "metadata": {},
     "output_type": "display_data"
    },
    {
     "data": {
      "text/html": [
       "<pre style=\"white-space:pre;overflow-x:auto;line-height:normal;font-family:Menlo,'DejaVu Sans Mono',consolas,'Courier New',monospace\"></pre>\n"
      ],
      "text/plain": []
     },
     "metadata": {},
     "output_type": "display_data"
    }
   ],
   "source": [
    "test_parallel_progress()"
   ]
  },
  {
   "cell_type": "code",
   "execution_count": null,
   "id": "813eec59",
   "metadata": {},
   "outputs": [],
   "source": []
  }
 ],
 "metadata": {
  "kernelspec": {
   "display_name": "multiprogress",
   "language": "python",
   "name": "python3"
  },
  "language_info": {
   "codemirror_mode": {
    "name": "ipython",
    "version": 3
   },
   "file_extension": ".py",
   "mimetype": "text/x-python",
   "name": "python",
   "nbconvert_exporter": "python",
   "pygments_lexer": "ipython3",
   "version": "3.13.6"
  }
 },
 "nbformat": 4,
 "nbformat_minor": 5
}
