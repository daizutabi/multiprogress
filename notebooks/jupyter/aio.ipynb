{
 "cells": [
  {
   "cell_type": "code",
   "execution_count": 6,
   "id": "79cca9da",
   "metadata": {},
   "outputs": [],
   "source": [
    "import sys\n",
    "from pathlib import Path\n",
    "\n",
    "from rich.progress import MofNCompleteColumn, Progress, SpinnerColumn, TimeElapsedColumn\n",
    "from watchfiles import Change\n",
    "\n",
    "from multiprogress.aio import arun\n"
   ]
  },
  {
   "cell_type": "code",
   "execution_count": 7,
   "id": "963fdf79",
   "metadata": {},
   "outputs": [],
   "source": [
    "def on_changed(changes: set[tuple[Change, str]]) -> tuple[float, float]:\n",
    "    total = completed = 0\n",
    "\n",
    "    for _, path in changes:\n",
    "        text = Path(path).read_text()\n",
    "        total, completed = text.split(\",\")\n",
    "        break\n",
    "\n",
    "    return float(total), float(completed)"
   ]
  },
  {
   "cell_type": "code",
   "execution_count": 8,
   "id": "4137f150",
   "metadata": {},
   "outputs": [],
   "source": [
    "columns = [\n",
    "    SpinnerColumn(),\n",
    "    *Progress.get_default_columns(),\n",
    "    MofNCompleteColumn(),\n",
    "    TimeElapsedColumn(),\n",
    "]"
   ]
  },
  {
   "cell_type": "code",
   "execution_count": 9,
   "id": "80d3dfb8",
   "metadata": {},
   "outputs": [
    {
     "data": {
      "application/vnd.jupyter.widget-view+json": {
       "model_id": "fb96984fc3414fdd88f3d12190c766a7",
       "version_major": 2,
       "version_minor": 0
      },
      "text/plain": [
       "Output()"
      ]
     },
     "metadata": {},
     "output_type": "display_data"
    },
    {
     "data": {
      "text/html": [
       "<pre style=\"white-space:pre;overflow-x:auto;line-height:normal;font-family:Menlo,'DejaVu Sans Mono',consolas,'Courier New',monospace\"></pre>\n"
      ],
      "text/plain": []
     },
     "metadata": {},
     "output_type": "display_data"
    }
   ],
   "source": [
    "arg = \"../../tests/scripts/task.py\"\n",
    "\n",
    "with Progress(*columns) as progress:\n",
    "    await arun([sys.executable, arg], \"a.txt\", on_changed, progress=progress)"
   ]
  },
  {
   "cell_type": "code",
   "execution_count": null,
   "id": "6fead96d",
   "metadata": {},
   "outputs": [],
   "source": []
  }
 ],
 "metadata": {
  "kernelspec": {
   "display_name": "multiprogress",
   "language": "python",
   "name": "python3"
  },
  "language_info": {
   "codemirror_mode": {
    "name": "ipython",
    "version": 3
   },
   "file_extension": ".py",
   "mimetype": "text/x-python",
   "name": "python",
   "nbconvert_exporter": "python",
   "pygments_lexer": "ipython3",
   "version": "3.13.6"
  }
 },
 "nbformat": 4,
 "nbformat_minor": 5
}
